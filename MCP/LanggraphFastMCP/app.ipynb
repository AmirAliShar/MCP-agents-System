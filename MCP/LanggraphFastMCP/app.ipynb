{
 "cells": [
  {
   "cell_type": "code",
   "execution_count": 3,
   "id": "b8e4ad9c",
   "metadata": {},
   "outputs": [
    {
     "name": "stderr",
     "output_type": "stream",
     "text": [
      "e:\\ANAcondaInstallation\\envs\\GenAI\\Lib\\site-packages\\tqdm\\auto.py:21: TqdmWarning: IProgress not found. Please update jupyter and ipywidgets. See https://ipywidgets.readthedocs.io/en/stable/user_install.html\n",
      "  from .autonotebook import tqdm as notebook_tqdm\n"
     ]
    }
   ],
   "source": [
    "\n",
    "from langchain.chat_models import init_chat_model\n",
    "from Schema import State\n",
    "import os\n",
    "from dotenv import load_dotenv\n",
    "load_dotenv()\n",
    "GROQ_API_KEY = os.environ.get(\"GROQ_API_KEY\")\n",
    "\n",
    "llm= init_chat_model(model=\"groq:openai/gpt-oss-120b\")\n"
   ]
  },
  {
   "cell_type": "code",
   "execution_count": 4,
   "id": "8783af3e",
   "metadata": {},
   "outputs": [
    {
     "data": {
      "text/plain": [
       "AIMessage(content='**Artificial Intelligence (AI)** is a branch of computer science that focuses on creating machines and software capable of performing tasks that normally require human intelligence. These tasks include learning, reasoning, problem‑solving, perception, language understanding, and decision‑making.\\n\\n### Core Ideas\\n| Concept | What It Means |\\n|---------|---------------|\\n| **Machine Learning (ML)** | Algorithms that improve automatically from data (e.g., recognizing images after seeing many examples). |\\n| **Deep Learning** | A subset of ML that uses multi‑layered neural networks to model complex patterns (e.g., speech‑to‑text, image generation). |\\n| **Natural Language Processing (NLP)** | Techniques for computers to understand, generate, and interact with human language (e.g., chatbots, translation). |\\n| **Computer Vision** | Enabling machines to interpret visual information from cameras or images (e.g., facial recognition). |\\n| **Robotics & Control** | Applying AI to guide physical robots or autonomous systems (e.g., self‑driving cars). |\\n| **Reasoning & Planning** | Systems that can infer new knowledge, solve puzzles, or devise strategies (e.g., game AI, scheduling). |\\n\\n### How AI Works (Simplified)\\n1. **Data Collection** – Gather raw information (text, images, sensor readings, etc.).\\n2. **Model Design** – Choose an algorithmic structure (e.g., decision tree, neural network).\\n3. **Training** – Feed the data to the model so it learns patterns; adjust internal parameters to reduce errors.\\n4. **Evaluation** – Test the trained model on new data to see how well it generalizes.\\n5. **Deployment** – Integrate the model into an application where it can make predictions or take actions in real time.\\n\\n### Types of AI (by capability)\\n| Category | Description |\\n|----------|-------------|\\n| **Narrow (Weak) AI** | Specialized in a single task (e.g., voice assistants, recommendation engines). |\\n| **General (Strong) AI** | Hypothetical systems that could perform any intellectual task a human can. Not yet achieved. |\\n| **Superintelligent AI** | A speculative future AI that surpasses human intelligence across all domains. |\\n\\n### Everyday Examples\\n- **Virtual assistants** (Siri, Alexa) – understand spoken commands and perform actions.\\n- **Recommendation systems** (Netflix, Amazon) – suggest movies, products based on your behavior.\\n- **Spam filters** – classify email as legitimate or junk.\\n- **Autocorrect and predictive typing** – guess the next word you’ll type.\\n- **Self‑driving cars** – combine perception, planning, and control to navigate roads.\\n\\n### Why AI Matters\\n- **Efficiency:** Automates repetitive or data‑intensive tasks.\\n- **Insight:** Finds patterns in massive datasets that humans can’t easily detect.\\n- **Accessibility:** Enables new interfaces (voice, vision) for people with disabilities.\\n- **Innovation:** Drives new products, services, and scientific discoveries.\\n\\n### Key Challenges & Considerations\\n- **Bias & Fairness:** Models can inherit prejudices present in training data.\\n- **Transparency:** Complex models (especially deep neural networks) can be hard to interpret.\\n- **Privacy:** Handling personal data responsibly is critical.\\n- **Safety & Ethics:** Ensuring AI behaves as intended, especially in high‑stakes domains like healthcare or autonomous vehicles.\\n\\n### Getting Started (if you want to explore AI)\\n1. **Learn the basics:** Introductory courses on Python, statistics, and linear algebra.\\n2. **Experiment:** Use free platforms like Google Colab, Kaggle, or Hugging Face to run notebooks.\\n3. **Study core algorithms:** Linear regression, decision trees, logistic regression, and simple neural networks.\\n4. **Build a project:** Sentiment analysis, image classifier, or a chatbot—hands‑on work solidifies concepts.\\n5. **Stay informed:** Follow AI ethics discussions, read recent research, and consider societal impact.\\n\\nIn short, AI is the science and engineering of building systems that can **perceive, learn, reason, and act**—often in ways that mimic or augment human capabilities.', additional_kwargs={'reasoning_content': 'The user asks: \"what is ai\". They want a definition. Provide a concise explanation. Should be appropriate. No policy issues. Provide a helpful answer.'}, response_metadata={'token_usage': {'completion_tokens': 899, 'prompt_tokens': 74, 'total_tokens': 973, 'completion_time': 1.906091161, 'prompt_time': 0.006848377, 'queue_time': 0.053601008, 'total_time': 1.912939538}, 'model_name': 'openai/gpt-oss-120b', 'system_fingerprint': 'fp_91af62a853', 'service_tier': 'on_demand', 'finish_reason': 'stop', 'logprobs': None}, id='run--0299be92-f2a9-4a3e-bb07-a980ddfa6bbd-0', usage_metadata={'input_tokens': 74, 'output_tokens': 899, 'total_tokens': 973})"
      ]
     },
     "execution_count": 4,
     "metadata": {},
     "output_type": "execute_result"
    }
   ],
   "source": [
    "llm.invoke(\"what is ai\")"
   ]
  },
  {
   "cell_type": "code",
   "execution_count": null,
   "id": "f043e8b2",
   "metadata": {},
   "outputs": [],
   "source": []
  }
 ],
 "metadata": {
  "kernelspec": {
   "display_name": "GenAI",
   "language": "python",
   "name": "python3"
  },
  "language_info": {
   "codemirror_mode": {
    "name": "ipython",
    "version": 3
   },
   "file_extension": ".py",
   "mimetype": "text/x-python",
   "name": "python",
   "nbconvert_exporter": "python",
   "pygments_lexer": "ipython3",
   "version": "3.12.11"
  }
 },
 "nbformat": 4,
 "nbformat_minor": 5
}
